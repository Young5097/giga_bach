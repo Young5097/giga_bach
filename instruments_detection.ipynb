{
  "cells": [
    {
      "cell_type": "code",
      "execution_count": null,
      "metadata": {
        "colab": {
          "base_uri": "https://localhost:8080/"
        },
        "id": "9TNbJEPSxexx",
        "outputId": "79f0e9d6-e83e-4360-9850-99756406501f"
      },
      "outputs": [
        {
          "name": "stdout",
          "output_type": "stream",
          "text": [
            "Mounted at /content/drive\n"
          ]
        }
      ],
      "source": [
        "from google.colab import drive\n",
        "drive.mount('/content/drive')"
      ]
    },
    {
      "cell_type": "code",
      "execution_count": null,
      "metadata": {
        "colab": {
          "base_uri": "https://localhost:8080/"
        },
        "id": "5Ibu1DtPzrow",
        "outputId": "5093161b-2cb9-4e74-e5ef-68b926cf2715"
      },
      "outputs": [
        {
          "name": "stdout",
          "output_type": "stream",
          "text": [
            "Collecting mido\n",
            "  Downloading mido-1.3.0-py3-none-any.whl (50 kB)\n",
            "\u001b[2K     \u001b[90m━━━━━━━━━━━━━━━━━━━━━━━━━━━━━━━━━━━━━━━━\u001b[0m \u001b[32m50.3/50.3 kB\u001b[0m \u001b[31m1.1 MB/s\u001b[0m eta \u001b[36m0:00:00\u001b[0m\n",
            "\u001b[?25hCollecting pretty_midi\n",
            "  Downloading pretty_midi-0.2.10.tar.gz (5.6 MB)\n",
            "\u001b[2K     \u001b[90m━━━━━━━━━━━━━━━━━━━━━━━━━━━━━━━━━━━━━━━━\u001b[0m \u001b[32m5.6/5.6 MB\u001b[0m \u001b[31m40.3 MB/s\u001b[0m eta \u001b[36m0:00:00\u001b[0m\n",
            "\u001b[?25h  Preparing metadata (setup.py) ... \u001b[?25l\u001b[?25hdone\n",
            "Requirement already satisfied: packaging~=23.1 in /usr/local/lib/python3.10/dist-packages (from mido) (23.2)\n",
            "Requirement already satisfied: numpy>=1.7.0 in /usr/local/lib/python3.10/dist-packages (from pretty_midi) (1.23.5)\n",
            "Requirement already satisfied: six in /usr/local/lib/python3.10/dist-packages (from pretty_midi) (1.16.0)\n",
            "Building wheels for collected packages: pretty_midi\n",
            "  Building wheel for pretty_midi (setup.py) ... \u001b[?25l\u001b[?25hdone\n",
            "  Created wheel for pretty_midi: filename=pretty_midi-0.2.10-py3-none-any.whl size=5592285 sha256=c904faabe0d72461a3105152e25a540f6b1a84af12559ccaf895be5868ac0f42\n",
            "  Stored in directory: /root/.cache/pip/wheels/cd/a5/30/7b8b7f58709f5150f67f98fde4b891ebf0be9ef07a8af49f25\n",
            "Successfully built pretty_midi\n",
            "Installing collected packages: mido, pretty_midi\n",
            "Successfully installed mido-1.3.0 pretty_midi-0.2.10\n"
          ]
        }
      ],
      "source": [
        "!pip install mido pretty_midi"
      ]
    },
    {
      "cell_type": "markdown",
      "metadata": {
        "id": "Ha7smyFawtWF"
      },
      "source": [
        "#악보 형식 검출기\n",
        "추후 업데이트 예정"
      ]
    },
    {
      "cell_type": "code",
      "execution_count": null,
      "metadata": {
        "id": "IzQJRvmF3FOl"
      },
      "outputs": [],
      "source": [
        "import mido\n",
        "import pretty_midi"
      ]
    },
    {
      "cell_type": "code",
      "execution_count": 21,
      "metadata": {
        "id": "ieyNAfWz3JvG"
      },
      "outputs": [],
      "source": [
        "def identify_instruments(midi_file_path):\n",
        "    midi_data = mido.MidiFile(midi_file_path)\n",
        "    midi_pretty_format = pretty_midi.PrettyMIDI(midi_file_path)\n",
        "\n",
        "    instruments_used = set()\n",
        "\n",
        "    for i, track in enumerate(midi_data.tracks):\n",
        "        for msg in track:\n",
        "            if msg.type == 'program_change':\n",
        "                program = msg.program\n",
        "                instruments_used.add(program)\n",
        "\n",
        "    instrument_mapping = {\n",
        "        32: 'b',  # Bass\n",
        "        128: 'd',  # Drums\n",
        "        25: 'g',  # Guitar\n",
        "        80: 'l',  # Lead\n",
        "        0: 'p',   # Piano\n",
        "        48: 's',  # Strings\n",
        "        29: 'c'   # Chords\n",
        "    }\n",
        "\n",
        "    instrument_symbols = [instrument_mapping.get(program, 'unknown') for program in instruments_used]\n",
        "\n",
        "    return instrument_symbols"
      ]
    },
    {
      "cell_type": "code",
      "execution_count": 22,
      "metadata": {
        "colab": {
          "base_uri": "https://localhost:8080/"
        },
        "id": "Ui1yKkOr1_9b",
        "outputId": "1f0c4186-9a64-4e60-96c6-6487448094d0"
      },
      "outputs": [
        {
          "name": "stdout",
          "output_type": "stream",
          "text": [
            "Instruments used in the MIDI file:\n",
            "p\n",
            "g\n",
            "b\n"
          ]
        }
      ],
      "source": [
        "if __name__ == \"__main__\":\n",
        "    midi_file_path = \"/content/drive/MyDrive/AI_composer/p2bdg-Super_Mario_Bros.__Main_Theme.mid\"  # 미디 파일 경로를 지정하세요\n",
        "    instruments = identify_instruments(midi_file_path)\n",
        "\n",
        "    print(\"Instruments used in the MIDI file:\")\n",
        "    for instrument in instruments:\n",
        "        print(instrument)"
      ]
    }
  ],
  "metadata": {
    "colab": {
      "provenance": []
    },
    "kernelspec": {
      "display_name": "Python 3.9.13 ('base')",
      "language": "python",
      "name": "python3"
    },
    "language_info": {
      "name": "python",
      "version": "3.9.13"
    },
    "vscode": {
      "interpreter": {
        "hash": "04ace0a587e0fcd4960780ba4c4bf603af65a79abceef5bb1e1a96db51f8fdb4"
      }
    }
  },
  "nbformat": 4,
  "nbformat_minor": 0
}
