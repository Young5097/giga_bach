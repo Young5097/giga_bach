{
  "nbformat": 4,
  "nbformat_minor": 0,
  "metadata": {
    "colab": {
      "provenance": []
    },
    "kernelspec": {
      "name": "python3",
      "display_name": "Python 3"
    },
    "language_info": {
      "name": "python"
    }
  },
  "cells": [
    {
      "cell_type": "markdown",
      "source": [
        "**헤더**"
      ],
      "metadata": {
        "id": "SxCySU-ztoKL"
      }
    },
    {
      "cell_type": "code",
      "execution_count": 1,
      "metadata": {
        "colab": {
          "base_uri": "https://localhost:8080/"
        },
        "id": "snR-zSBYTiCE",
        "outputId": "8c07ca53-ffe1-436a-c183-192476e7c8bc"
      },
      "outputs": [
        {
          "output_type": "stream",
          "name": "stdout",
          "text": [
            "Mounted at /content/drive\n"
          ]
        }
      ],
      "source": [
        "from google.colab import drive\n",
        "drive.mount('/content/drive')"
      ]
    },
    {
      "cell_type": "code",
      "source": [
        "!pip install music21"
      ],
      "metadata": {
        "colab": {
          "base_uri": "https://localhost:8080/"
        },
        "id": "rJvJDo3xlVDs",
        "outputId": "c1f37748-9452-4ed6-9fdf-80211ff9238d"
      },
      "execution_count": 4,
      "outputs": [
        {
          "output_type": "stream",
          "name": "stdout",
          "text": [
            "Requirement already satisfied: music21 in /usr/local/lib/python3.10/dist-packages (9.1.0)\n",
            "Requirement already satisfied: chardet in /usr/local/lib/python3.10/dist-packages (from music21) (5.2.0)\n",
            "Requirement already satisfied: joblib in /usr/local/lib/python3.10/dist-packages (from music21) (1.3.2)\n",
            "Requirement already satisfied: jsonpickle in /usr/local/lib/python3.10/dist-packages (from music21) (3.0.2)\n",
            "Requirement already satisfied: matplotlib in /usr/local/lib/python3.10/dist-packages (from music21) (3.7.1)\n",
            "Requirement already satisfied: more-itertools in /usr/local/lib/python3.10/dist-packages (from music21) (10.1.0)\n",
            "Requirement already satisfied: numpy in /usr/local/lib/python3.10/dist-packages (from music21) (1.23.5)\n",
            "Requirement already satisfied: requests in /usr/local/lib/python3.10/dist-packages (from music21) (2.31.0)\n",
            "Requirement already satisfied: webcolors>=1.5 in /usr/local/lib/python3.10/dist-packages (from music21) (1.13)\n",
            "Requirement already satisfied: contourpy>=1.0.1 in /usr/local/lib/python3.10/dist-packages (from matplotlib->music21) (1.2.0)\n",
            "Requirement already satisfied: cycler>=0.10 in /usr/local/lib/python3.10/dist-packages (from matplotlib->music21) (0.12.1)\n",
            "Requirement already satisfied: fonttools>=4.22.0 in /usr/local/lib/python3.10/dist-packages (from matplotlib->music21) (4.46.0)\n",
            "Requirement already satisfied: kiwisolver>=1.0.1 in /usr/local/lib/python3.10/dist-packages (from matplotlib->music21) (1.4.5)\n",
            "Requirement already satisfied: packaging>=20.0 in /usr/local/lib/python3.10/dist-packages (from matplotlib->music21) (23.2)\n",
            "Requirement already satisfied: pillow>=6.2.0 in /usr/local/lib/python3.10/dist-packages (from matplotlib->music21) (9.4.0)\n",
            "Requirement already satisfied: pyparsing>=2.3.1 in /usr/local/lib/python3.10/dist-packages (from matplotlib->music21) (3.1.1)\n",
            "Requirement already satisfied: python-dateutil>=2.7 in /usr/local/lib/python3.10/dist-packages (from matplotlib->music21) (2.8.2)\n",
            "Requirement already satisfied: charset-normalizer<4,>=2 in /usr/local/lib/python3.10/dist-packages (from requests->music21) (3.3.2)\n",
            "Requirement already satisfied: idna<4,>=2.5 in /usr/local/lib/python3.10/dist-packages (from requests->music21) (3.6)\n",
            "Requirement already satisfied: urllib3<3,>=1.21.1 in /usr/local/lib/python3.10/dist-packages (from requests->music21) (2.0.7)\n",
            "Requirement already satisfied: certifi>=2017.4.17 in /usr/local/lib/python3.10/dist-packages (from requests->music21) (2023.11.17)\n",
            "Requirement already satisfied: six>=1.5 in /usr/local/lib/python3.10/dist-packages (from python-dateutil>=2.7->matplotlib->music21) (1.16.0)\n"
          ]
        }
      ]
    },
    {
      "cell_type": "code",
      "source": [
        "from music21 import converter, stream, note, meter, tempo\n",
        "import pandas as pd\n",
        "import os"
      ],
      "metadata": {
        "id": "NMyXdcB6tQLj"
      },
      "execution_count": null,
      "outputs": []
    },
    {
      "cell_type": "markdown",
      "source": [
        "**midi_to_df**"
      ],
      "metadata": {
        "id": "2I33yNM1tr1x"
      }
    },
    {
      "cell_type": "code",
      "source": [
        "def extract_notes_and_chords(music_element, offset):\n",
        "    result = []\n",
        "    if 'Chord' in music_element.classes:\n",
        "        for pitch in music_element.pitches:\n",
        "            result.append((offset, pitch.ps, music_element.volume.velocity))\n",
        "    elif 'Note' in music_element.classes:\n",
        "        result.append((offset, music_element.pitch.ps, music_element.volume.velocity))\n",
        "    return result\n",
        "\n",
        "def extract_piano_notes(part):\n",
        "    data = {'Offset': [], 'Pitch': [], 'Velocity': []}\n",
        "    offset = 0\n",
        "\n",
        "    for element in part.flat.notesAndRests:\n",
        "        for note_info in extract_notes_and_chords(element, offset):\n",
        "            data['Offset'].append(note_info[0])\n",
        "            data['Pitch'].append(note_info[1])\n",
        "            data['Velocity'].append(note_info[2])\n",
        "        offset += element.duration.quarterLength\n",
        "\n",
        "    return pd.DataFrame(data)\n",
        "\n",
        "def midi_to_dataframe(midi_file_path):\n",
        "    # MIDI 파일 불러오기\n",
        "    midi_stream = converter.parse(midi_file_path)\n",
        "\n",
        "    # 피아노 파트만 선택\n",
        "    piano_part = None\n",
        "    for part in midi_stream.parts:\n",
        "        if 'Piano' in part.partName:\n",
        "            piano_part = part\n",
        "            break\n",
        "\n",
        "    if piano_part is not None:\n",
        "        return extract_piano_notes(piano_part)\n",
        "    else:\n",
        "        return pd.DataFrame()  # Return an empty DataFrame if no piano part is found\n",
        "\n",
        "def process_multiple_files(file_paths):\n",
        "    # 데이터프레임을 저장할 리스트 생성\n",
        "    dfs = []\n",
        "\n",
        "    for file_path in file_paths:\n",
        "        # 미디 파일에서 데이터프레임으로 변환\n",
        "        midi_df = midi_to_dataframe(file_path)\n",
        "        if not midi_df.empty:\n",
        "            dfs.append(midi_df)\n",
        "\n",
        "    # 모든 데이터프레임을 하나로 합치기\n",
        "    combined_df = pd.concat(dfs, ignore_index=True)\n",
        "\n",
        "    return combined_df\n"
      ],
      "metadata": {
        "id": "5NluSgx7tM3q"
      },
      "execution_count": null,
      "outputs": []
    },
    {
      "cell_type": "code",
      "source": [
        "if __name__ == \"__main__\":\n",
        "    # 여러 미디 파일 경로 지정\n",
        "    midi_files = [\n",
        "        '/content/drive/MyDrive/AI_composer/piano_MiDi/bach/bach_846.mid',\n",
        "        '/content/drive/MyDrive/AI_composer/piano_MiDi/bach/bach_847.mid',\n",
        "        '/content/drive/MyDrive/AI_composer/piano_MiDi/bach/bach_850.mid'\n",
        "    ]\n",
        "\n",
        "    # 여러 미디 파일을 처리하여 하나의 데이터프레임으로 합치기\n",
        "    combined_df = process_multiple_files(midi_files)\n",
        "\n",
        "\n",
        "    # 합쳐진 데이터프레임 출력\n",
        "    print(combined_df)"
      ],
      "metadata": {
        "colab": {
          "base_uri": "https://localhost:8080/"
        },
        "id": "_FuZ8QJ6r93j",
        "outputId": "2b19ea1f-41bc-4287-a890-e26c635ebb47"
      },
      "execution_count": 12,
      "outputs": [
        {
          "output_type": "stream",
          "name": "stderr",
          "text": [
            "/usr/local/lib/python3.10/dist-packages/music21/stream/base.py:3694: Music21DeprecationWarning: .flat is deprecated.  Call .flatten() instead\n",
            "  return self.iter().getElementsByClass(classFilterList)\n",
            "/usr/local/lib/python3.10/dist-packages/music21/stream/base.py:3694: Music21DeprecationWarning: .flat is deprecated.  Call .flatten() instead\n",
            "  return self.iter().getElementsByClass(classFilterList)\n",
            "/usr/local/lib/python3.10/dist-packages/music21/midi/translate.py:874: TranslateWarning: Unable to determine instrument from <music21.midi.MidiEvent SEQUENCE_TRACK_NAME, track=0, channel=None, data=b'Pr\\xe4ludium und Fuge in D-Dur, BWV 850'>; getting generic Instrument\n",
            "  warnings.warn(\n",
            "/usr/local/lib/python3.10/dist-packages/music21/midi/translate.py:874: TranslateWarning: Unable to determine instrument from <music21.midi.MidiEvent SEQUENCE_TRACK_NAME, track=8, channel=None, data=b'Copyright 1997 by Bernd Kr\\xfcger.'>; getting generic Instrument\n",
            "  warnings.warn(\n"
          ]
        },
        {
          "output_type": "stream",
          "name": "stdout",
          "text": [
            "          Offset  Pitch  Velocity\n",
            "0       0.500000   67.0        56\n",
            "1       0.750000   72.0        60\n",
            "2       1.000000   76.0        63\n",
            "3       1.250000   67.0        50\n",
            "4       1.500000   72.0        47\n",
            "...          ...    ...       ...\n",
            "1574  146.083333   74.0        69\n",
            "1575  147.083333   73.0        65\n",
            "1576  148.083333   74.0        64\n",
            "1577  148.083333   69.0        64\n",
            "1578  148.083333   66.0        64\n",
            "\n",
            "[1579 rows x 3 columns]\n"
          ]
        },
        {
          "output_type": "stream",
          "name": "stderr",
          "text": [
            "/usr/local/lib/python3.10/dist-packages/music21/stream/base.py:3694: Music21DeprecationWarning: .flat is deprecated.  Call .flatten() instead\n",
            "  return self.iter().getElementsByClass(classFilterList)\n"
          ]
        }
      ]
    },
    {
      "cell_type": "markdown",
      "source": [
        "**df to midi**"
      ],
      "metadata": {
        "id": "yB-P1hyXtgCb"
      }
    },
    {
      "cell_type": "code",
      "source": [
        "def dataframe_to_midi(dataframe, output_midi_path):\n",
        "    # Create a stream to represent the MIDI file\n",
        "    midi_stream = stream.Score()\n",
        "\n",
        "    # Add a piano instrument to the stream\n",
        "    piano_part = stream.Part()\n",
        "    piano_part.append(instrument.Piano())  # You may need to import 'instrument' from music21\n",
        "\n",
        "    # Add notes to the piano part from the dataframe\n",
        "    for index, row in dataframe.iterrows():\n",
        "        offset = row['Offset']\n",
        "        pitch = row['Pitch']\n",
        "        velocity = row['Velocity']\n",
        "\n",
        "        if not pd.isnull(pitch):  # Check if it's a note (not a rest)\n",
        "            n = note.Note()\n",
        "            n.pitch.ps = pitch\n",
        "            n.volume.velocity = velocity\n",
        "            piano_part.append(n)\n",
        "        else:  # It's a rest\n",
        "            r = note.Rest()\n",
        "            r.duration.quarterLength = row['Duration']\n",
        "            piano_part.append(r)\n",
        "\n",
        "    # Add the piano part to the MIDI stream\n",
        "    midi_stream.append(piano_part)\n",
        "\n",
        "    # Set tempo and meter (you can adjust these parameters)\n",
        "    midi_stream.append(tempo.MetronomeMark(number=120))\n",
        "    midi_stream.append(meter.TimeSignature('4/4'))\n",
        "\n",
        "    # Write the stream to a MIDI file\n",
        "    midi_stream.write('midi', fp=output_midi_path)"
      ],
      "metadata": {
        "colab": {
          "base_uri": "https://localhost:8080/"
        },
        "id": "smLfEt7dskaa",
        "outputId": "dd266e4d-c091-4a01-d547-4e61f1de57dd"
      },
      "execution_count": 13,
      "outputs": [
        {
          "output_type": "stream",
          "name": "stderr",
          "text": [
            "/usr/local/lib/python3.10/dist-packages/music21/stream/base.py:3694: Music21DeprecationWarning: .flat is deprecated.  Call .flatten() instead\n",
            "  return self.iter().getElementsByClass(classFilterList)\n",
            "/usr/local/lib/python3.10/dist-packages/music21/stream/base.py:3694: Music21DeprecationWarning: .flat is deprecated.  Call .flatten() instead\n",
            "  return self.iter().getElementsByClass(classFilterList)\n",
            "/usr/local/lib/python3.10/dist-packages/music21/stream/base.py:3694: Music21DeprecationWarning: .flat is deprecated.  Call .flatten() instead\n",
            "  return self.iter().getElementsByClass(classFilterList)\n"
          ]
        }
      ]
    },
    {
      "cell_type": "code",
      "source": [
        "if __name__ == \"__main__\":\n",
        "    # Combined dataframe obtained from the previous code\n",
        "    combined_df = process_multiple_files(midi_files)\n",
        "\n",
        "    # Output MIDI file path\n",
        "    output_midi_path = '/content/drive/MyDrive/AI_composer/piano_MiDi/bach/output_mid.mid'\n",
        "\n",
        "    # Convert dataframe to MIDI and save\n",
        "    dataframe_to_midi(combined_df, output_midi_path)"
      ],
      "metadata": {
        "id": "BHIT59jHteVv"
      },
      "execution_count": null,
      "outputs": []
    }
  ]
}