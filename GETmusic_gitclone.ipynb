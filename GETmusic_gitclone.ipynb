{
  "cells": [
    {
      "cell_type": "markdown",
      "metadata": {
        "id": "C7hbKUtWpyIm"
      },
      "source": [
        "#헤더"
      ]
    },
    {
      "cell_type": "code",
      "execution_count": null,
      "metadata": {
        "colab": {
          "base_uri": "https://localhost:8080/"
        },
        "id": "ZqogfLPzgt4x",
        "outputId": "a72e1077-d9ac-40be-ec2b-82f6fc5ad7f0"
      },
      "outputs": [],
      "source": [
        "!pip install tensorboard\n",
        "!pip install pyyaml\n",
        "!pip install tqdm\n",
        "!pip install transformers\n",
        "!pip install einops\n",
        "!pip install scipy"
      ]
    },
    {
      "cell_type": "code",
      "execution_count": null,
      "metadata": {
        "colab": {
          "base_uri": "https://localhost:8080/"
        },
        "id": "A2zMhaukf0ZR",
        "outputId": "4920699c-caff-4d4e-a438-4b40be99f4cb"
      },
      "outputs": [],
      "source": [
        "!pip install miditoolkit==1.0.0"
      ]
    },
    {
      "cell_type": "code",
      "execution_count": null,
      "metadata": {
        "colab": {
          "base_uri": "https://localhost:8080/"
        },
        "id": "qM0cKoN6xmdF",
        "outputId": "cecba338-50af-41d7-93b5-89578216bacf"
      },
      "outputs": [],
      "source": [
        "!pip install torch==1.12.1+cu113 torchvision==0.13.1+cu113 torchaudio==0.12.1 --extra-index-url https://download.pytorch.org/whl/cu113"
      ]
    },
    {
      "cell_type": "code",
      "execution_count": null,
      "metadata": {
        "id": "yGX0HbE3zKmH"
      },
      "outputs": [],
      "source": [
        "!pip install midi2audio pydub"
      ]
    },
    {
      "cell_type": "code",
      "execution_count": 19,
      "metadata": {
        "id": "VEN_teGDzlq2"
      },
      "outputs": [
        {
          "name": "stderr",
          "output_type": "stream",
          "text": [
            "'apt-get'��(��) ���� �Ǵ� �ܺ� ����, ������ �� �ִ� ���α׷�, �Ǵ�\n",
            "��ġ ������ �ƴմϴ�.\n"
          ]
        }
      ],
      "source": [
        "!apt-get install fluidsynth"
      ]
    },
    {
      "cell_type": "code",
      "execution_count": null,
      "metadata": {
        "colab": {
          "base_uri": "https://localhost:8080/"
        },
        "id": "gTzBksh1hNUy",
        "outputId": "1ce29dc4-b1a7-4921-b5fb-198b186b97f4"
      },
      "outputs": [],
      "source": [
        "from google.colab import drive\n",
        "drive.mount('/content/drive')"
      ]
    },
    {
      "cell_type": "markdown",
      "metadata": {
        "id": "CH-jyOM1p2Oh"
      },
      "source": [
        "#디렉토리 설정"
      ]
    },
    {
      "cell_type": "code",
      "execution_count": null,
      "metadata": {
        "id": "W0ErKc7jhhDL"
      },
      "outputs": [],
      "source": [
        "import os\n",
        "import miditoolkit\n",
        "os.chdir('/content/muzic/getmusic')"
      ]
    },
    {
      "cell_type": "markdown",
      "metadata": {
        "id": "Cx4LGXQXiDhn"
      },
      "source": [
        "# 트랙생성"
      ]
    },
    {
      "cell_type": "markdown",
      "metadata": {
        "id": "pAkr_xI8qAlX"
      },
      "source": [
        "트랙생성시 체크포인트 파일 경로 --load_path\n",
        "\n",
        "\n",
        "미디파일이 들어간 폴더 경로 --file_path\n",
        "\n"
      ]
    },
    {
      "cell_type": "code",
      "execution_count": null,
      "metadata": {
        "colab": {
          "base_uri": "https://localhost:8080/"
        },
        "id": "1gbQ5S8ir8bG",
        "outputId": "eb40c46f-a4b9-4100-85b2-30967ef59e0d"
      },
      "outputs": [
        {
          "name": "stdout",
          "output_type": "stream",
          "text": [
            "Global seed set to 0\n",
            "<class 'getmusic.modeling.models.dfm.DFM'>\n",
            "<class 'getmusic.modeling.roformer.diffusion_roformer.DiffusionRFM'>\n",
            "<class 'getmusic.modeling.roformer.roformer_utils.DiffusionRoformerModel'>\n",
            "Load dictionary: 11879 tokens.\n",
            "<class 'getmusic.engine.clip_grad_norm.ClipGradNorm'>\n",
            "Get lr 3e-06 from base lr 3e-06 with none\n",
            "<class 'torch.optim.adamw.AdamW'>\n",
            "<class 'getmusic.engine.lr_scheduler.LinearDecayLRWithWarmup'>\n",
            "{'overall': {'trainable': '86.49M', 'non_trainable': '96.0K', 'total': '86.59M'}, 'rfm': {'trainable': '86.49M', 'non_trainable': '96.0K', 'total': '86.59M'}}\n",
            "self.device  0\n",
            "inference_cache: global rank 0: prepare solver done!\n",
            "Resume from /content/drive/MyDrive/checkpoint.pth\n",
            "/content/drive/MyDrive/AI_composer/Outputs/outputs.mid\n",
            "skip?n\n",
            "Select condition tracks ('b' for bass, 'd' for drums, 'g' for guitar, 'l' for lead, 'p' for piano, 's' for strings, 'c' for chords; multiple choices; input any other key to skip):p\n",
            "Select content tracks ('b' for bass, 'd' for drums, 'g' for guitar, 'l' for lead, 'p' for piano, 's' for strings; multiple choices):bdg\n",
            "use ema parameters\n",
            "100% 100/100 [00:03<00:00, 25.22it/s]\n",
            "sampling, the song has 97 time units\n"
          ]
        }
      ],
      "source": [
        "!python track_generation.py --load_path /content/drive/MyDrive/checkpoint.pth --file_path /content/drive/MyDrive/AI_composer/Outputs"
      ]
    },
    {
      "cell_type": "markdown",
      "metadata": {
        "id": "bc2CE75hp6hK"
      },
      "source": [
        "#미디파일을 오디오로 변환"
      ]
    },
    {
      "cell_type": "code",
      "execution_count": null,
      "metadata": {
        "colab": {
          "base_uri": "https://localhost:8080/"
        },
        "id": "1kGLXEE6x243",
        "outputId": "7569ed86-e7e4-4955-d022-ea3475e459e1"
      },
      "outputs": [
        {
          "name": "stdout",
          "output_type": "stream",
          "text": [
            "모든 미디 파일을 WAV 파일로 변환하였습니다.\n"
          ]
        }
      ],
      "source": [
        "from pydub import AudioSegment\n",
        "import librosa\n",
        "import librosa.display\n",
        "import os\n",
        "from midi2audio import FluidSynth\n",
        "\n",
        "# FluidSynth을 초기화합니다.\n",
        "fs = FluidSynth()\n",
        "\n",
        "# 입력 폴더와 출력 폴더를 설정합니다.\n",
        "input_folder = '/content/drive/MyDrive/AI_composer'\n",
        "output_folder = '/content/drive/MyDrive/AI_composer'\n",
        "\n",
        "# 출력 폴더가 없으면 생성합니다.\n",
        "if not os.path.exists(output_folder):\n",
        "    os.makedirs(output_folder)\n",
        "\n",
        "# 입력 폴더 내의 모든 미디 파일에 대해 처리합니다.\n",
        "for filename in os.listdir(input_folder):\n",
        "    if filename.endswith(\".midi\") or filename.endswith(\".mid\"):\n",
        "        # MIDI 파일을 WAV 파일로 변환합니다.\n",
        "        midi_path = os.path.join(input_folder, filename)\n",
        "        wav_path = os.path.join(output_folder, os.path.splitext(filename)[0] + \".wav\")\n",
        "\n",
        "        # MIDI 파일을 FluidSynth을 사용하여 WAV 파일로 변환합니다.\n",
        "        fs.midi_to_audio(midi_path, wav_path)\n",
        "\n",
        "# 변환 완료 메시지를 출력합니다.\n",
        "print(\"모든 미디 파일을 WAV 파일로 변환하였습니다.\")"
      ]
    },
    {
      "cell_type": "code",
      "execution_count": null,
      "metadata": {
        "id": "PiQtWl7My179"
      },
      "outputs": [],
      "source": [
        "from IPython.display import Audio, display\n",
        "import os\n",
        "\n",
        "# 오디오 파일이 있는 폴더 경로를 설정합니다.\n",
        "audio_folder = '/content/drive/MyDrive/AI_composer/pydemo_midi/bach_output'\n",
        "\n",
        "# 오디오 파일을 재생하는 함수를 정의합니다.\n",
        "def play_audio(file_path):\n",
        "    display(Audio(file_path))\n",
        "\n",
        "supported_formats = ['.wav', '.mp3', '.ogg', '.flac']\n",
        "# 지정된 폴더 내의 모든 오디오 파일에 대해 재생합니다.\n",
        "for filename in os.listdir(audio_folder):\n",
        "    if any(filename.endswith(format) for format in supported_formats):\n",
        "        file_path = os.path.join(audio_folder, filename)\n",
        "        display(Audio(file_path, autoplay=True))"
      ]
    }
  ],
  "metadata": {
    "accelerator": "GPU",
    "colab": {
      "gpuType": "V100",
      "machine_shape": "hm",
      "provenance": []
    },
    "kernelspec": {
      "display_name": "Python 3.9.13 ('base')",
      "language": "python",
      "name": "python3"
    },
    "language_info": {
      "name": "python",
      "version": "3.11.3"
    },
    "vscode": {
      "interpreter": {
        "hash": "04ace0a587e0fcd4960780ba4c4bf603af65a79abceef5bb1e1a96db51f8fdb4"
      }
    }
  },
  "nbformat": 4,
  "nbformat_minor": 0
}
